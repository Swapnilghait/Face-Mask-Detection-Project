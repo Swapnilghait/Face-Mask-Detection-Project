{
 "cells": [
  {
   "cell_type": "markdown",
   "id": "e810b664-aac5-43b5-a42b-26d75f255290",
   "metadata": {},
   "source": [
    "# FEACEMASK DETECTION VEDIO BASED PROJECT "
   ]
  },
  {
   "cell_type": "markdown",
   "id": "8cf1260e-e7fe-4d6a-9d81-ca7f1d28c11c",
   "metadata": {},
   "source": [
    "## IMPORTING LIBRARIES "
   ]
  },
  {
   "cell_type": "code",
   "execution_count": 1,
   "id": "c7e291b4-272b-4bd8-8b19-8ab9916f0c64",
   "metadata": {},
   "outputs": [
    {
     "name": "stdout",
     "output_type": "stream",
     "text": [
      "Requirement already satisfied: imutils in c:\\users\\swapn\\anaconda3\\lib\\site-packages (0.5.4)\n",
      "Note: you may need to restart the kernel to use updated packages.\n"
     ]
    }
   ],
   "source": [
    "pip install imutils"
   ]
  },
  {
   "cell_type": "code",
   "execution_count": 2,
   "id": "f685957d-ec2a-4b02-a763-ed008e054943",
   "metadata": {},
   "outputs": [
    {
     "name": "stdout",
     "output_type": "stream",
     "text": [
      "Requirement already satisfied: opencv-python in c:\\users\\swapn\\anaconda3\\lib\\site-packages (4.9.0.80)\n",
      "Requirement already satisfied: numpy>=1.21.2 in c:\\users\\swapn\\anaconda3\\lib\\site-packages (from opencv-python) (1.26.2)\n",
      "Note: you may need to restart the kernel to use updated packages.\n"
     ]
    }
   ],
   "source": [
    "pip install opencv-python"
   ]
  },
  {
   "cell_type": "code",
   "execution_count": 3,
   "id": "fa329336-61a3-46e7-affa-00db4cb17a49",
   "metadata": {},
   "outputs": [
    {
     "name": "stdout",
     "output_type": "stream",
     "text": [
      "WARNING:tensorflow:From C:\\Users\\swapn\\anaconda3\\Lib\\site-packages\\keras\\src\\losses.py:2976: The name tf.losses.sparse_softmax_cross_entropy is deprecated. Please use tf.compat.v1.losses.sparse_softmax_cross_entropy instead.\n",
      "\n"
     ]
    }
   ],
   "source": [
    "from tensorflow.keras.preprocessing.image import ImageDataGenerator\n",
    "from tensorflow.keras.applications import MobileNetV2  # used fo object detection and segmentation \n",
    "from tensorflow.keras.layers import AveragePooling2D\n",
    "from tensorflow.keras.layers import Dropout \n",
    "from tensorflow.keras.layers import Flatten \n",
    "from tensorflow.keras.layers import Dense\n",
    "from tensorflow.keras.layers import Input \n",
    "from tensorflow.keras.models import Model\n",
    "from tensorflow.keras.optimizers import Adam \n",
    "from tensorflow.keras.applications.mobilenet_v2 import preprocess_input \n",
    "from tensorflow.keras.preprocessing.image import img_to_array\n",
    "from tensorflow.keras.preprocessing.image import load_img\n",
    "from tensorflow.keras.utils import to_categorical \n",
    "from sklearn.preprocessing import LabelBinarizer\n",
    "from sklearn.model_selection import train_test_split \n",
    "from sklearn.metrics import classification_report\n",
    "from imutils import paths \n",
    "import matplotlib.pyplot as plt \n",
    "import pandas as pd \n",
    "import numpy as np \n",
    "import numpy as np\n",
    "import os \n"
   ]
  },
  {
   "cell_type": "code",
   "execution_count": 4,
   "id": "ce4f6daf-bc63-42c8-9532-729daa1796fe",
   "metadata": {},
   "outputs": [],
   "source": [
    "# now we will define the initialization learning rate,epochs and batch size \n",
    "INIT_LR = 1e-4 \n",
    "EPOCHS = 20 \n",
    "BS = 32 "
   ]
  },
  {
   "cell_type": "code",
   "execution_count": 5,
   "id": "ce08412d-4bfb-4076-822c-522077c46613",
   "metadata": {},
   "outputs": [],
   "source": [
    "# now we will import the dataset \n",
    "DIRECTORY = r\"C:\\Users\\swapn\\Machine learning projects\\PREPINSTA\\DATASET\\FACE MASK VEDIO DETECTION PROJECT\"\n",
    "CATEGORIES = [\"with_mask\" , \"without_mask\" ] # it can also identify it automatically "
   ]
  },
  {
   "cell_type": "code",
   "execution_count": 6,
   "id": "d527666c-80a2-4cc7-87fe-8876aa746960",
   "metadata": {},
   "outputs": [
    {
     "name": "stdout",
     "output_type": "stream",
     "text": [
      "[INFO] loading images....\n"
     ]
    },
    {
     "name": "stderr",
     "output_type": "stream",
     "text": [
      "C:\\Users\\swapn\\anaconda3\\Lib\\site-packages\\PIL\\Image.py:970: UserWarning: Palette images with Transparency expressed in bytes should be converted to RGBA images\n",
      "  warnings.warn(\n"
     ]
    }
   ],
   "source": [
    "import os\n",
    "from keras.preprocessing.image import load_img, img_to_array\n",
    "from keras.applications.mobilenet_v2 import preprocess_input\n",
    "\n",
    "print(\"[INFO] loading images....\")\n",
    "\n",
    "# data will store all images in the array format\n",
    "# labels will store all the corresponding labels with mask or without mask\n",
    "data = []\n",
    "labels = []\n",
    "\n",
    "# We have the 2 categories: with_mask and without_mask\n",
    "for category in CATEGORIES:\n",
    "    path = os.path.join(DIRECTORY, category)\n",
    "    # Now we will look for the images in the current category\n",
    "    for img in os.listdir(path):\n",
    "        # We will join the path and image\n",
    "        img_path = os.path.join(path, img)\n",
    "        # Now we will load the image and specify its target size\n",
    "        image = load_img(img_path, target_size=(224, 224))\n",
    "        # Now we will convert the image into an array\n",
    "        image = img_to_array(image)\n",
    "        # We will preprocess the input image\n",
    "        image = preprocess_input(image)\n",
    "        \n",
    "        # Now we append this array values of image into the data and categories in labels\n",
    "        data.append(image)\n",
    "        labels.append(category)\n"
   ]
  },
  {
   "cell_type": "code",
   "execution_count": 7,
   "id": "7897cd80-013c-41b7-8a93-7784052cf16e",
   "metadata": {},
   "outputs": [],
   "source": [
    "# categories also need 1/0 organizer \n",
    "# so we will perform the ENCODING ON LABELS \n",
    "\n",
    "lb = LabelBinarizer()\n",
    "labels = lb.fit_transform(labels)\n",
    "labels = to_categorical(labels)\n",
    "\n",
    "data = np.array(data , dtype = \"float32\")\n",
    "labels = np.array(labels)\n",
    "\n",
    "# now we will split the training and testing data here \n",
    "( trainX , testX , trainY , testY ) = train_test_split(data , labels , test_size = 0.20 , stratify = labels , random_state = 42 )"
   ]
  },
  {
   "cell_type": "code",
   "execution_count": 8,
   "id": "32595638-010c-4234-9775-3388a0d0cbde",
   "metadata": {},
   "outputs": [],
   "source": [
    "# creating the training image generator for data argumentation \n",
    "# we will define how we want the image \n",
    "aug = ImageDataGenerator(rotation_range = 20 ,\n",
    "                         zoom_range = 0.15 ,\n",
    "                         width_shift_range = 0.2 ,\n",
    "                         height_shift_range = 0.2 ,\n",
    "                         shear_range = 0.15 , \n",
    "                         horizontal_flip = True ,\n",
    "                         fill_mode = \"nearest\" )"
   ]
  },
  {
   "cell_type": "code",
   "execution_count": 17,
   "id": "e14ad4da-3fc3-4b64-80c6-c26619db0467",
   "metadata": {},
   "outputs": [
    {
     "name": "stdout",
     "output_type": "stream",
     "text": [
      "WARNING:tensorflow:`input_shape` is undefined or non-square, or `rows` is not in [96, 128, 160, 192, 224]. Weights for input shape (224, 224) will be loaded as the default.\n"
     ]
    },
    {
     "name": "stderr",
     "output_type": "stream",
     "text": [
      "WARNING:tensorflow:`input_shape` is undefined or non-square, or `rows` is not in [96, 128, 160, 192, 224]. Weights for input shape (224, 224) will be loaded as the default.\n"
     ]
    }
   ],
   "source": [
    "# befor applying ANN we will apply the feature detection using mobilenetv2 library \n",
    "# using this accuracy of our model will be better \n",
    "\n",
    "baseModel = MobileNetV2(weights='imagenet',\n",
    "                        include_top=False,\n",
    "                        input_tensor=Input(shape=(224, 224, 3)))\n",
    "\n",
    "                        "
   ]
  },
  {
   "cell_type": "code",
   "execution_count": 18,
   "id": "2f9be519-1e7e-4874-b274-f3a775657d33",
   "metadata": {},
   "outputs": [],
   "source": [
    "from keras.layers import AveragePooling2D, Flatten, Dense, Dropout\n",
    "\n",
    "# NOW ON THIS BASEMODEL WE WILL APPLY THE CNN \n",
    "# we will create the headmodel that will be used on the top of the base model \n",
    "\n",
    "headModel = baseModel.output \n",
    "headModel = AveragePooling2D(pool_size=(7, 7))(headModel)\n",
    "headModel = Flatten(name=\"flatten\")(headModel)\n",
    "headModel = Dense(128, activation=\"relu\")(headModel)\n",
    "headModel = Dropout(0.5)(headModel)\n",
    "headModel = Dense(2, activation=\"softmax\")(headModel)\n"
   ]
  },
  {
   "cell_type": "code",
   "execution_count": 19,
   "id": "5afe84d4-fd2e-4c89-9e8f-67ac95430fde",
   "metadata": {},
   "outputs": [],
   "source": [
    "# now we wiull apply the head model on the top of the base model \n",
    "# so we will train this model \n",
    "model = Model(inputs = baseModel.input , outputs = headModel )\n",
    "# basemodel conatains many layers we will trey that this layers will not get updated during the 1 st traing \n",
    "for layer in baseModel.layers : \n",
    "    layer.trainable = False \n",
    "    \n"
   ]
  },
  {
   "cell_type": "code",
   "execution_count": 21,
   "id": "7545b4c6-5b57-4c7c-962d-a1116f735a57",
   "metadata": {},
   "outputs": [
    {
     "name": "stdout",
     "output_type": "stream",
     "text": [
      "[INFO] compiling model...\n",
      "[INFO] training head...\n",
      "Epoch 1/20\n",
      "95/95 [==============================] - 88s 885ms/step - loss: 0.3944 - accuracy: 0.8579 - val_loss: 0.1302 - val_accuracy: 0.9909\n",
      "Epoch 2/20\n",
      "95/95 [==============================] - 80s 838ms/step - loss: 0.1478 - accuracy: 0.9585 - val_loss: 0.0677 - val_accuracy: 0.9909\n",
      "Epoch 3/20\n",
      "95/95 [==============================] - 85s 895ms/step - loss: 0.1019 - accuracy: 0.9717 - val_loss: 0.0503 - val_accuracy: 0.9909\n",
      "Epoch 4/20\n",
      "95/95 [==============================] - 74s 782ms/step - loss: 0.0780 - accuracy: 0.9789 - val_loss: 0.0413 - val_accuracy: 0.9909\n",
      "Epoch 5/20\n",
      "95/95 [==============================] - 66s 690ms/step - loss: 0.0705 - accuracy: 0.9796 - val_loss: 0.0364 - val_accuracy: 0.9909\n",
      "Epoch 6/20\n",
      "95/95 [==============================] - 70s 734ms/step - loss: 0.0569 - accuracy: 0.9832 - val_loss: 0.0353 - val_accuracy: 0.9896\n",
      "Epoch 7/20\n",
      "95/95 [==============================] - 86s 896ms/step - loss: 0.0522 - accuracy: 0.9835 - val_loss: 0.0317 - val_accuracy: 0.9909\n",
      "Epoch 8/20\n",
      "95/95 [==============================] - 95s 996ms/step - loss: 0.0487 - accuracy: 0.9835 - val_loss: 0.0385 - val_accuracy: 0.9896\n",
      "Epoch 9/20\n",
      "95/95 [==============================] - 95s 997ms/step - loss: 0.0401 - accuracy: 0.9891 - val_loss: 0.0292 - val_accuracy: 0.9909\n",
      "Epoch 10/20\n",
      "95/95 [==============================] - 93s 975ms/step - loss: 0.0378 - accuracy: 0.9885 - val_loss: 0.0280 - val_accuracy: 0.9935\n",
      "Epoch 11/20\n",
      "95/95 [==============================] - 89s 940ms/step - loss: 0.0425 - accuracy: 0.9868 - val_loss: 0.0263 - val_accuracy: 0.9935\n",
      "Epoch 12/20\n",
      "95/95 [==============================] - 97s 1s/step - loss: 0.0450 - accuracy: 0.9848 - val_loss: 0.0293 - val_accuracy: 0.9909\n",
      "Epoch 13/20\n",
      "95/95 [==============================] - 91s 962ms/step - loss: 0.0313 - accuracy: 0.9924 - val_loss: 0.0266 - val_accuracy: 0.9909\n",
      "Epoch 14/20\n",
      "95/95 [==============================] - 93s 982ms/step - loss: 0.0376 - accuracy: 0.9875 - val_loss: 0.0282 - val_accuracy: 0.9909\n",
      "Epoch 15/20\n",
      "95/95 [==============================] - 93s 980ms/step - loss: 0.0316 - accuracy: 0.9898 - val_loss: 0.0255 - val_accuracy: 0.9935\n",
      "Epoch 16/20\n",
      "95/95 [==============================] - 103s 1s/step - loss: 0.0275 - accuracy: 0.9918 - val_loss: 0.0254 - val_accuracy: 0.9935\n",
      "Epoch 17/20\n",
      "95/95 [==============================] - 99s 1s/step - loss: 0.0291 - accuracy: 0.9908 - val_loss: 0.0229 - val_accuracy: 0.9948\n",
      "Epoch 18/20\n",
      "95/95 [==============================] - 109s 1s/step - loss: 0.0300 - accuracy: 0.9911 - val_loss: 0.0217 - val_accuracy: 0.9948\n",
      "Epoch 19/20\n",
      "95/95 [==============================] - 105s 1s/step - loss: 0.0253 - accuracy: 0.9904 - val_loss: 0.0240 - val_accuracy: 0.9922\n",
      "Epoch 20/20\n",
      "95/95 [==============================] - 97s 1s/step - loss: 0.0307 - accuracy: 0.9898 - val_loss: 0.0237 - val_accuracy: 0.9922\n"
     ]
    }
   ],
   "source": [
    "from tensorflow.keras.optimizers import Adam\n",
    "\n",
    "# compile our model\n",
    "print(\"[INFO] compiling model...\")\n",
    "opt = Adam(learning_rate=INIT_LR)\n",
    "model.compile(loss=\"binary_crossentropy\", optimizer=opt,\n",
    "\tmetrics=[\"accuracy\"])\n",
    "\n",
    "# train the head of the network\n",
    "print(\"[INFO] training head...\")\n",
    "H = model.fit(\n",
    "    aug.flow(trainX, trainY, batch_size=BS),\n",
    "    steps_per_epoch=len(trainX) // BS,\n",
    "    validation_data=(testX, testY),\n",
    "    validation_steps=len(testX) // BS,\n",
    "    epochs=EPOCHS)\n"
   ]
  },
  {
   "cell_type": "code",
   "execution_count": 24,
   "id": "e3fe420b-2c68-4039-9bde-585866a22291",
   "metadata": {},
   "outputs": [
    {
     "name": "stdout",
     "output_type": "stream",
     "text": [
      "[INFO] evaluating network...\n",
      "24/24 [==============================] - 12s 420ms/step\n",
      "              precision    recall  f1-score   support\n",
      "\n",
      "   with_mask       0.99      0.99      0.99       383\n",
      "without_mask       0.99      0.99      0.99       384\n",
      "\n",
      "    accuracy                           0.99       767\n",
      "   macro avg       0.99      0.99      0.99       767\n",
      "weighted avg       0.99      0.99      0.99       767\n",
      "\n",
      "[INFO] saving mask detector model...\n"
     ]
    },
    {
     "name": "stderr",
     "output_type": "stream",
     "text": [
      "C:\\Users\\swapn\\anaconda3\\Lib\\site-packages\\keras\\src\\engine\\training.py:3103: UserWarning: You are saving your model as an HDF5 file via `model.save()`. This file format is considered legacy. We recommend using instead the native Keras format, e.g. `model.save('my_model.keras')`.\n",
      "  saving_api.save_model(\n"
     ]
    }
   ],
   "source": [
    "# make predictions on the testing set\n",
    "print(\"[INFO] evaluating network...\")\n",
    "predIdxs = model.predict(testX, batch_size=BS)\n",
    "\n",
    "# for each image in the testing set we need to find the index of the\n",
    "# label with corresponding largest predicted probability\n",
    "predIdxs = np.argmax(predIdxs, axis=1)\n",
    "\n",
    "# show a nicely formatted classification report\n",
    "print(classification_report(testY.argmax(axis=1), predIdxs,\n",
    "\ttarget_names=lb.classes_))\n",
    "\n",
    "# serialize the model to disk\n",
    "print(\"[INFO] saving mask detector model...\")\n",
    "model.save(\"mask_detector.model\", save_format=\"h5\")"
   ]
  },
  {
   "cell_type": "code",
   "execution_count": 23,
   "id": "e942fc65-d931-4024-9193-382f7fe0c25e",
   "metadata": {},
   "outputs": [
    {
     "data": {
      "image/png": "[encoded data removed]",
      "text/plain": [
       "<Figure size 640x480 with 1 Axes>"
      ]
     },
     "metadata": {},
     "output_type": "display_data"
    }
   ],
   "source": [
    "# plot the training loss and accuracy\n",
    "N = EPOCHS\n",
    "plt.style.use(\"ggplot\")\n",
    "plt.figure()\n",
    "plt.plot(np.arange(0, N), H.history[\"loss\"], label=\"train_loss\")\n",
    "plt.plot(np.arange(0, N), H.history[\"val_loss\"], label=\"val_loss\")\n",
    "plt.plot(np.arange(0, N), H.history[\"accuracy\"], label=\"train_acc\")\n",
    "plt.plot(np.arange(0, N), H.history[\"val_accuracy\"], label=\"val_acc\")\n",
    "plt.title(\"Training Loss and Accuracy\")\n",
    "plt.xlabel(\"Epoch #\")\n",
    "plt.ylabel(\"Loss/Accuracy\")\n",
    "plt.legend(loc=\"lower left\")\n",
    "plt.savefig(\"plot.png\")"
   ]
  }
 ],
 "metadata": {
  "kernelspec": {
   "display_name": "Python 3 (ipykernel)",
   "language": "python",
   "name": "python3"
  },
  "language_info": {
   "codemirror_mode": {
    "name": "ipython",
    "version": 3
   },
   "file_extension": ".py",
   "mimetype": "text/x-python",
   "name": "python",
   "nbconvert_exporter": "python",
   "pygments_lexer": "ipython3",
   "version": "3.11.5"
  }
 },
 "nbformat": 4,
 "nbformat_minor": 5
}
